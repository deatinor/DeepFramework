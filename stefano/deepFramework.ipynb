{
 "cells": [
  {
   "cell_type": "markdown",
   "metadata": {},
   "source": [
    "# Import"
   ]
  },
  {
   "cell_type": "code",
   "execution_count": 1,
   "metadata": {
    "collapsed": true
   },
   "outputs": [],
   "source": [
    "import torch\n",
    "from torch import FloatTensor, LongTensor\n",
    "import math"
   ]
  },
  {
   "cell_type": "code",
   "execution_count": 2,
   "metadata": {
    "collapsed": true
   },
   "outputs": [],
   "source": [
    "from load_script_deep_framework import load_dataset"
   ]
  },
  {
   "cell_type": "code",
   "execution_count": 9,
   "metadata": {
    "collapsed": true
   },
   "outputs": [],
   "source": [
    "%load_ext autoreload\n",
    "%autoreload 2"
   ]
  },
  {
   "cell_type": "code",
   "execution_count": 31,
   "metadata": {
    "collapsed": true
   },
   "outputs": [],
   "source": [
    "import torch.nn as nn"
   ]
  },
  {
   "cell_type": "code",
   "execution_count": 34,
   "metadata": {
    "collapsed": true
   },
   "outputs": [],
   "source": [
    "?nn.Linear.forward"
   ]
  },
  {
   "cell_type": "markdown",
   "metadata": {
    "collapsed": true
   },
   "source": [
    "# Loading the dataset"
   ]
  },
  {
   "cell_type": "code",
   "execution_count": 11,
   "metadata": {},
   "outputs": [],
   "source": [
    "train,target_train=load_dataset()"
   ]
  },
  {
   "cell_type": "code",
   "execution_count": 12,
   "metadata": {
    "collapsed": true
   },
   "outputs": [],
   "source": [
    "test,target_test=load_dataset()"
   ]
  },
  {
   "cell_type": "markdown",
   "metadata": {
    "collapsed": true
   },
   "source": [
    "# Generic Module Class"
   ]
  },
  {
   "cell_type": "code",
   "execution_count": 86,
   "metadata": {},
   "outputs": [],
   "source": [
    "class Module():\n",
    "    \n",
    "    def forward(self,input):\n",
    "        raise NotImplemented\n",
    "        \n",
    "    def backward(self,input):\n",
    "        raise NotImplemented\n",
    "            \n",
    "    def param(self):\n",
    "        return\n",
    "    \n",
    "    def __call__(self,*input):\n",
    "        return self.forward(*input)\n",
    "    "
   ]
  },
  {
   "cell_type": "markdown",
   "metadata": {},
   "source": [
    "# Specific classes"
   ]
  },
  {
   "cell_type": "code",
   "execution_count": 126,
   "metadata": {},
   "outputs": [],
   "source": [
    "class Linear(Module):\n",
    "    \n",
    "    def __init__(self,input_features,output_features):\n",
    "        super(Linear,self).__init__()\n",
    "        \n",
    "        self._input_features=input_features\n",
    "        self._output_features=output_features\n",
    "    \n",
    "        self._weights=torch.rand(self._output_features,self._input_features)\n",
    "        self._gradient=torch.zeros(self._weights.shape)\n",
    "    \n",
    "    def forward(self,input):\n",
    "        self._input=input.view(-1)\n",
    "    \n",
    "        self._output=self._weights.mv(self._input)\n",
    "        return self._output.clone()\n",
    "        \n",
    "    def backward(self,d_dy):\n",
    "        self._gradient.add(d_dy.view(-1,1)*self._input.view(1,-1))\n",
    "        \n",
    "        d_dx=self._weights.t().mv(d_dy)\n",
    "        return d_dx\n",
    "    "
   ]
  },
  {
   "cell_type": "code",
   "execution_count": 113,
   "metadata": {
    "collapsed": true
   },
   "outputs": [],
   "source": [
    "class ReLU(Module):\n",
    "    def __init__(self):\n",
    "        super(ReLU,self).__init__()\n",
    "        \n",
    "    def forward(self,input):\n",
    "        self._input=input.clone()\n",
    "        \n",
    "        self._output=self._input.clone()\n",
    "        self._output[self._output<0]=0\n",
    "\n",
    "        return self._output.clone()\n",
    "    \n",
    "    def backward(self,d_dy):\n",
    "        d_dx=d_dy.clone()\n",
    "        d_dx[self._input<0]=0\n",
    "        \n",
    "        return d_dx\n",
    "        "
   ]
  },
  {
   "cell_type": "code",
   "execution_count": 114,
   "metadata": {
    "collapsed": true
   },
   "outputs": [],
   "source": [
    "class LossMSE(Module):\n",
    "    def __init__(self):\n",
    "        super(LossMSE,self).__init__()\n",
    "        \n",
    "    def forward(self,input,target):\n",
    "        self._input=input-target\n",
    "        self._output=(self._input).pow(2).sum()\n",
    "        return self._output.clone()\n",
    "        \n",
    "    def backward(self):\n",
    "        d_dx=2*self._input\n",
    "        return d_dx"
   ]
  },
  {
   "cell_type": "code",
   "execution_count": null,
   "metadata": {
    "collapsed": true
   },
   "outputs": [],
   "source": []
  }
 ],
 "metadata": {
  "kernelspec": {
   "display_name": "Python 3",
   "language": "python",
   "name": "python3"
  },
  "language_info": {
   "codemirror_mode": {
    "name": "ipython",
    "version": 3
   },
   "file_extension": ".py",
   "mimetype": "text/x-python",
   "name": "python",
   "nbconvert_exporter": "python",
   "pygments_lexer": "ipython3",
   "version": "3.6.1"
  }
 },
 "nbformat": 4,
 "nbformat_minor": 2
}
