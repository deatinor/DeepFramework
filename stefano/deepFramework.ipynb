{
 "cells": [
  {
   "cell_type": "markdown",
   "metadata": {},
   "source": [
    "# Import"
   ]
  },
  {
   "cell_type": "code",
   "execution_count": 3,
   "metadata": {},
   "outputs": [],
   "source": [
    "import torch\n",
    "from torch import FloatTensor, LongTensor\n",
    "import math"
   ]
  },
  {
   "cell_type": "code",
   "execution_count": 5,
   "metadata": {},
   "outputs": [],
   "source": [
    "from load_script_deep_framework import load_dataset"
   ]
  },
  {
   "cell_type": "code",
   "execution_count": 6,
   "metadata": {},
   "outputs": [],
   "source": [
    "%load_ext autoreload\n",
    "%autoreload 2"
   ]
  },
  {
   "cell_type": "code",
   "execution_count": 7,
   "metadata": {},
   "outputs": [],
   "source": [
    "import torch.nn as nn"
   ]
  },
  {
   "cell_type": "code",
   "execution_count": 8,
   "metadata": {},
   "outputs": [],
   "source": [
    "?nn.Linear.forward"
   ]
  },
  {
   "cell_type": "markdown",
   "metadata": {
    "collapsed": true
   },
   "source": [
    "# Loading the dataset"
   ]
  },
  {
   "cell_type": "code",
   "execution_count": 9,
   "metadata": {},
   "outputs": [],
   "source": [
    "train,target_train = load_dataset()"
   ]
  },
  {
   "cell_type": "code",
   "execution_count": 10,
   "metadata": {},
   "outputs": [],
   "source": [
    "test,target_test = load_dataset()"
   ]
  },
  {
   "cell_type": "markdown",
   "metadata": {
    "collapsed": true
   },
   "source": [
    "# Generic Module Class"
   ]
  },
  {
   "cell_type": "code",
   "execution_count": 11,
   "metadata": {},
   "outputs": [],
   "source": [
    "class Module():\n",
    "    \n",
    "    def forward(self,input):\n",
    "        raise NotImplemented\n",
    "        \n",
    "    def backward(self,input):\n",
    "        raise NotImplemented\n",
    "            \n",
    "    def param(self):\n",
    "        return\n",
    "    \n",
    "    def __call__(self,*input):\n",
    "        return self.forward(*input)\n",
    "    \n",
    "    def zero_grad_(self):\n",
    "        return\n",
    "    \n",
    "    def update_weights_(self,epsilon):\n",
    "        return"
   ]
  },
  {
   "cell_type": "markdown",
   "metadata": {},
   "source": [
    "# Specific classes"
   ]
  },
  {
   "cell_type": "code",
   "execution_count": 12,
   "metadata": {},
   "outputs": [],
   "source": [
    "class Linear(Module):\n",
    "    \n",
    "    def __init__(self,input_features,output_features):\n",
    "        super(Linear,self).__init__()\n",
    "        \n",
    "        self._input_features=input_features\n",
    "        self._output_features=output_features\n",
    "    \n",
    "        self._weights=torch.randn(self._output_features,self._input_features)*1e-1\n",
    "        self._gradient=torch.zeros(self._weights.shape)\n",
    "    \n",
    "    def forward(self,input):\n",
    "        self._input=input.view(-1)\n",
    "    \n",
    "        self._output=self._weights.mv(self._input)\n",
    "        return self._output.clone()\n",
    "        \n",
    "    def backward(self,d_dy):\n",
    "        self._gradient.add_(d_dy.view(-1,1)*self._input.view(1,-1))\n",
    "        \n",
    "        d_dx=self._weights.t().mv(d_dy)\n",
    "        return d_dx\n",
    "    \n",
    "    def zero_grad_(self):\n",
    "        self._gradient.zero_()\n",
    "        \n",
    "    def update_weights_(self,epsilon):\n",
    "        self._weights.add_(-epsilon*self._gradient)\n",
    "    "
   ]
  },
  {
   "cell_type": "code",
   "execution_count": 13,
   "metadata": {},
   "outputs": [],
   "source": [
    "class ReLU(Module):\n",
    "    def __init__(self):\n",
    "        super(ReLU,self).__init__()\n",
    "        \n",
    "    def forward(self,input):\n",
    "        self._input=input.clone()\n",
    "        \n",
    "        self._output=self._input.clone()\n",
    "        self._output[self._output<0] = 0\n",
    "\n",
    "        return self._output.clone()\n",
    "    \n",
    "    def backward(self,d_dy):\n",
    "        \n",
    "        d_dx = d_dy.clone()\n",
    "        d_dx[self._input<0] = 0\n",
    "        \n",
    "        return d_dx\n",
    "        "
   ]
  },
  {
   "cell_type": "code",
   "execution_count": 14,
   "metadata": {},
   "outputs": [],
   "source": [
    "class Tanh(Module):\n",
    "    def __init__(self):\n",
    "        super(Tanh,self).__init__()\n",
    "        \n",
    "    def forward(self,input):\n",
    "        self._input=input.clone()\n",
    "        \n",
    "        self._output=self._input.tanh()\n",
    "        \n",
    "        return self._output.clone()\n",
    "    \n",
    "    def backward(self,d_dy):\n",
    "        d_dx= (1-self._input.tanh()**2)*d_dy\n",
    "        \n",
    "        return d_dx\n",
    "        "
   ]
  },
  {
   "cell_type": "code",
   "execution_count": 15,
   "metadata": {},
   "outputs": [],
   "source": [
    "class LossMSE(Module):\n",
    "    def __init__(self):\n",
    "        super(LossMSE,self).__init__()\n",
    "        \n",
    "    def forward(self,input,target):\n",
    "        self._input = input - target\n",
    "        self._output = (self._input).pow(2).sum()\n",
    "        return self._output\n",
    "        \n",
    "    def backward(self):\n",
    "        d_dx = 2 * self._input\n",
    "        return d_dx"
   ]
  },
  {
   "cell_type": "code",
   "execution_count": 16,
   "metadata": {},
   "outputs": [],
   "source": [
    "class Sequential(Module):\n",
    "    def __init__(self, modules ,loss):\n",
    "        super(Sequential,self).__init__()\n",
    "        \n",
    "        self._modules = modules\n",
    "        self._loss = loss\n",
    "    \n",
    "    def forward(self,input,target):\n",
    "        \n",
    "        y = input.clone()\n",
    "        for module in self._modules:\n",
    "            y = module(y)\n",
    "        \n",
    "        output = y.clone()\n",
    "        \n",
    "        loss = self._loss(y,target)\n",
    "        \n",
    "        return loss,output\n",
    "    \n",
    "    def backward(self):\n",
    "        d_dy=self._loss.backward()\n",
    "        \n",
    "        for module in reversed(self._modules):\n",
    "            d_dy = module.backward(d_dy)\n",
    "            \n",
    "            \n",
    "    def zero_grad_(self):\n",
    "        for module in self._modules:\n",
    "            module.zero_grad_()\n",
    "\n",
    "    def update_weights_(self,epsilon):\n",
    "        for module in self._modules:\n",
    "            module.update_weights_(epsilon)\n",
    "        \n",
    "    \n",
    "    "
   ]
  },
  {
   "cell_type": "code",
   "execution_count": 17,
   "metadata": {},
   "outputs": [],
   "source": [
    "hidden1=Linear(2,25)\n",
    "hidden2=Linear(25,25)\n",
    "hidden3=Linear(25,25)\n",
    "output=Linear(25,2)\n",
    "relu1=ReLU()\n",
    "relu2=ReLU()\n",
    "relu3=ReLU()\n",
    "tanh=Tanh()\n",
    "loss=LossMSE()"
   ]
  },
  {
   "cell_type": "code",
   "execution_count": 18,
   "metadata": {},
   "outputs": [],
   "source": [
    "layers=[hidden1,relu1,hidden2,relu2,hidden3,relu3,output,tanh]"
   ]
  },
  {
   "cell_type": "code",
   "execution_count": null,
   "metadata": {},
   "outputs": [],
   "source": []
  },
  {
   "cell_type": "code",
   "execution_count": 19,
   "metadata": {},
   "outputs": [],
   "source": [
    "network=Sequential(layers,loss)\n",
    "network(torch.Tensor([0.5,0.5]),torch.Tensor([-1,1]))\n",
    "network.backward()\n",
    "network.update_weights_(1e-3)"
   ]
  },
  {
   "cell_type": "code",
   "execution_count": 22,
   "metadata": {},
   "outputs": [
    {
     "name": "stdout",
     "output_type": "stream",
     "text": [
      "Error rate 0.831\n",
      "Error rate 0.073\n",
      "Error rate 0.028\n",
      "Error rate 0.031\n",
      "Error rate 0.031\n",
      "Error rate 0.031\n",
      "Error rate 0.031\n",
      "Error rate 0.031\n",
      "Error rate 0.031\n",
      "Error rate 0.032\n"
     ]
    }
   ],
   "source": [
    "## hidden1=Linear(2,25)\n",
    "hidden2=Linear(25,25)\n",
    "hidden3=Linear(25,25)\n",
    "output=Linear(25,2)\n",
    "relu1=ReLU()\n",
    "relu2=ReLU()\n",
    "relu3=ReLU()\n",
    "tanh=Tanh()\n",
    "loss=LossMSE()\n",
    "\n",
    "layers=[hidden1,relu1,hidden2,relu2,hidden3,relu3,output,tanh]\n",
    "\n",
    "network=Sequential(layers,loss)\n",
    "\n",
    "for i in range(10):\n",
    "    all_output=[]\n",
    "    correct=0\n",
    "\n",
    "    for j,pair in enumerate(zip(train,target_train)):\n",
    "        train_element,target_element=pair\n",
    "\n",
    "        loss,output=network(train_element,target_element)\n",
    "        \n",
    "#         if 1:\n",
    "#             print(list(target_element),list(output),loss)\n",
    "        network.backward()\n",
    "        network.update_weights_(1e-3)\n",
    "        network.zero_grad_()\n",
    "#         print(output)\n",
    "        right=target_element[1]>target_element[0]\n",
    "        output_index=output[1]>output[0]\n",
    "#         print(output)\n",
    "        all_output.append(output)\n",
    "        difference=abs(output[1]-output[0])\n",
    "        output_index=difference<1\n",
    "        if right==output_index:\n",
    "            correct+=1\n",
    "\n",
    "    print('Error rate',(1000-correct)/1000)"
   ]
  },
  {
   "cell_type": "markdown",
   "metadata": {},
   "source": [
    "# Test"
   ]
  },
  {
   "cell_type": "code",
   "execution_count": 23,
   "metadata": {},
   "outputs": [],
   "source": [
    "correct=0\n",
    "for j,pair in enumerate(zip(test,target_test)):\n",
    "\n",
    "    test_element,target_test_element=pair\n",
    "\n",
    "    loss,output=network(test_element,target_test_element)\n",
    "        \n",
    "        \n",
    "    right=target_test_element[1]>target_test_element[0]\n",
    "    difference=abs(output[1]-output[0])\n",
    "    output_index=difference<1\n",
    "    if right==output_index:\n",
    "        correct+=1\n",
    "    "
   ]
  },
  {
   "cell_type": "code",
   "execution_count": 24,
   "metadata": {},
   "outputs": [
    {
     "data": {
      "text/plain": [
       "970"
      ]
     },
     "execution_count": 24,
     "metadata": {},
     "output_type": "execute_result"
    }
   ],
   "source": [
    "correct"
   ]
  },
  {
   "cell_type": "code",
   "execution_count": null,
   "metadata": {
    "collapsed": true
   },
   "outputs": [],
   "source": []
  }
 ],
 "metadata": {
  "kernelspec": {
   "display_name": "Python 3",
   "language": "python",
   "name": "python3"
  },
  "language_info": {
   "codemirror_mode": {
    "name": "ipython",
    "version": 3
   },
   "file_extension": ".py",
   "mimetype": "text/x-python",
   "name": "python",
   "nbconvert_exporter": "python",
   "pygments_lexer": "ipython3",
   "version": "3.6.4"
  }
 },
 "nbformat": 4,
 "nbformat_minor": 2
}
